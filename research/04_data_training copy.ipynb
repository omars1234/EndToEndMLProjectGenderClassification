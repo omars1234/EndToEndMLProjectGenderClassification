{
 "cells": [
  {
   "cell_type": "code",
   "execution_count": 2,
   "metadata": {},
   "outputs": [],
   "source": [
    "import os"
   ]
  },
  {
   "cell_type": "code",
   "execution_count": 3,
   "metadata": {},
   "outputs": [
    {
     "data": {
      "text/plain": [
       "'c:\\\\Users\\\\Omar\\\\Desktop\\\\Omar_Files\\\\Python_Analysis\\\\EndToEndMLProjectGenderClassification\\\\research'"
      ]
     },
     "execution_count": 3,
     "metadata": {},
     "output_type": "execute_result"
    }
   ],
   "source": [
    "\n",
    "%pwd"
   ]
  },
  {
   "cell_type": "code",
   "execution_count": 4,
   "metadata": {},
   "outputs": [],
   "source": [
    "os.chdir(\"../\")"
   ]
  },
  {
   "cell_type": "code",
   "execution_count": 5,
   "metadata": {},
   "outputs": [
    {
     "data": {
      "text/plain": [
       "'c:\\\\Users\\\\Omar\\\\Desktop\\\\Omar_Files\\\\Python_Analysis\\\\EndToEndMLProjectGenderClassification'"
      ]
     },
     "execution_count": 5,
     "metadata": {},
     "output_type": "execute_result"
    }
   ],
   "source": [
    "%pwd"
   ]
  },
  {
   "cell_type": "code",
   "execution_count": 6,
   "metadata": {},
   "outputs": [],
   "source": [
    "from dataclasses import dataclass\n",
    "from pathlib import Path\n",
    "\n",
    "@dataclass(frozen=True)\n",
    "class ModelTrainerArtifcatsConfig:\n",
    "    root_dir:Path\n",
    "    train_data_arr_path:Path\n",
    "    test_data_arr_path:Path\n",
    "    model_name:str\n",
    "    paramerts:str"
   ]
  },
  {
   "cell_type": "code",
   "execution_count": 7,
   "metadata": {},
   "outputs": [],
   "source": [
    "from EndToEndMLProjectGenderClassification.constants import *\n",
    "from EndToEndMLProjectGenderClassification.utils.common import read_yaml,create_directories\n",
    "from EndToEndMLProjectGenderClassification.hyperpatameters.params import models"
   ]
  },
  {
   "cell_type": "code",
   "execution_count": 10,
   "metadata": {},
   "outputs": [],
   "source": [
    "class ConfigurationManager:\n",
    "    def __init__(self,\n",
    "                 config_filepath=CONFIG_FILE_PATH,\n",
    "                 #params_filepath=PARAMS_FILE_PATH,\n",
    "                 schema_filepath=SCHEMA_FILE_PATH) -> None:\n",
    "        \n",
    "        self.config=read_yaml(config_filepath)\n",
    "        #self.params=read_yaml(params_filepath)\n",
    "        self.schema=read_yaml(schema_filepath)\n",
    "\n",
    "        create_directories([self.config.artifacts_root])      \n",
    "\n",
    "\n",
    "    def get_Model_Trainer_Artifcats_Config(self)-> ModelTrainerArtifcatsConfig:\n",
    "        config=self.config.training\n",
    "        #params=self.params.RandomForestClassifier\n",
    "        schema=self.schema\n",
    "      \n",
    "\n",
    "        create_directories([config.root_dir])\n",
    "\n",
    "        training_config = ModelTrainerArtifcatsConfig(\n",
    "            root_dir=config.root_dir,\n",
    "            train_data_arr_path=config.train_data_arr_path,\n",
    "            test_data_arr_path=config.test_data_arr_path,\n",
    "            model_name=config.model_name\n",
    "        )\n",
    "\n",
    "        return training_config"
   ]
  },
  {
   "cell_type": "code",
   "execution_count": 11,
   "metadata": {},
   "outputs": [],
   "source": [
    "import os\n",
    "import urllib.request as request\n",
    "from sklearn.ensemble import RandomForestClassifier,GradientBoostingClassifier\n",
    "import pickle,joblib\n",
    "import pandas as pd\n",
    "import numpy as np\n",
    "from EndToEndMLProjectGenderClassification import logger"
   ]
  },
  {
   "cell_type": "code",
   "execution_count": 12,
   "metadata": {},
   "outputs": [],
   "source": [
    "\n",
    "class Training:\n",
    "\n",
    "    def initiate_Training(self):\n",
    "\n",
    "        with open(self.config.train_data_arr_path, 'rb') as f:\n",
    "            train_data = np.load(f)  \n",
    "\n",
    "\n",
    "        x_train,y_train=(\n",
    "            train_data[:,:-1],train_data[:,-1]\n",
    "        )\n",
    "        x_test,y_test=(\n",
    "            test_data[:,:-1],test_data[:,-1]\n",
    "        )\n",
    "        models_list=[]\n",
    "        RMSE_list=[]\n",
    "        for i in  range(len(list(models))):\n",
    "            model=list(models.values())[i]\n",
    "            model.fit(x_train,y_train)\n",
    "\n",
    "            train_predicted=model.predict(x_train)\n",
    "            test_predicted=model.predict(x_test)      \n",
    "            \n",
    "            test_predicted_RMSE=evaluation_preds(y_test,test_predicted)\n",
    "            \n",
    "            RMSE_list.append(test_predicted_RMSE)\n",
    "\n",
    "            models_list.append(list(models.keys())[i])\n",
    "                \n",
    "        report=pd.DataFrame(list(zip(models_list,RMSE_list)),columns=[\"model\",\"RMSE\"]).sort_values(by=\"RMSE\",ascending=True)\n",
    "        return report"
   ]
  },
  {
   "cell_type": "code",
   "execution_count": 13,
   "metadata": {},
   "outputs": [
    {
     "name": "stdout",
     "output_type": "stream",
     "text": [
      "[2024-10-27 14:11:35,853: INFO: common: yaml file: config\\config.yaml loaded successfully]\n",
      "[2024-10-27 14:11:35,879: INFO: common: yaml file: schema.yaml loaded successfully]\n",
      "[2024-10-27 14:11:35,882: INFO: common: created directory at: artifacts]\n"
     ]
    },
    {
     "ename": "AttributeError",
     "evalue": "'ConfigurationManager' object has no attribute 'get_training_config'",
     "output_type": "error",
     "traceback": [
      "\u001b[1;31m---------------------------------------------------------------------------\u001b[0m",
      "\u001b[1;31mAttributeError\u001b[0m                            Traceback (most recent call last)",
      "Cell \u001b[1;32mIn[13], line 7\u001b[0m\n\u001b[0;32m      5\u001b[0m     training\u001b[38;5;241m.\u001b[39minitiate_Training()\n\u001b[0;32m      6\u001b[0m \u001b[38;5;28;01mexcept\u001b[39;00m \u001b[38;5;167;01mException\u001b[39;00m \u001b[38;5;28;01mas\u001b[39;00m e:\n\u001b[1;32m----> 7\u001b[0m     \u001b[38;5;28;01mraise\u001b[39;00m e\n",
      "Cell \u001b[1;32mIn[13], line 3\u001b[0m\n\u001b[0;32m      1\u001b[0m \u001b[38;5;28;01mtry\u001b[39;00m:\n\u001b[0;32m      2\u001b[0m     config \u001b[38;5;241m=\u001b[39m ConfigurationManager()\n\u001b[1;32m----> 3\u001b[0m     training_config \u001b[38;5;241m=\u001b[39m \u001b[43mconfig\u001b[49m\u001b[38;5;241;43m.\u001b[39;49m\u001b[43mget_training_config\u001b[49m()\n\u001b[0;32m      4\u001b[0m     training \u001b[38;5;241m=\u001b[39m Training(config\u001b[38;5;241m=\u001b[39mtraining_config)\n\u001b[0;32m      5\u001b[0m     training\u001b[38;5;241m.\u001b[39minitiate_Training()\n",
      "\u001b[1;31mAttributeError\u001b[0m: 'ConfigurationManager' object has no attribute 'get_training_config'"
     ]
    }
   ],
   "source": [
    "\n",
    "try:\n",
    "    config = ConfigurationManager()\n",
    "    training_config = config.get_training_config()\n",
    "    training = Training(config=training_config)\n",
    "    training.initiate_Training()\n",
    "except Exception as e:\n",
    "    raise e"
   ]
  },
  {
   "cell_type": "code",
   "execution_count": null,
   "metadata": {},
   "outputs": [],
   "source": []
  }
 ],
 "metadata": {
  "kernelspec": {
   "display_name": "GenderClassificationenv",
   "language": "python",
   "name": "python3"
  },
  "language_info": {
   "codemirror_mode": {
    "name": "ipython",
    "version": 3
   },
   "file_extension": ".py",
   "mimetype": "text/x-python",
   "name": "python",
   "nbconvert_exporter": "python",
   "pygments_lexer": "ipython3",
   "version": "3.10.8"
  }
 },
 "nbformat": 4,
 "nbformat_minor": 2
}
