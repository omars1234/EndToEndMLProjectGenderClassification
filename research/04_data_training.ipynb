{
 "cells": [
  {
   "cell_type": "code",
   "execution_count": 2,
   "metadata": {},
   "outputs": [],
   "source": [
    "import os"
   ]
  },
  {
   "cell_type": "code",
   "execution_count": 3,
   "metadata": {},
   "outputs": [
    {
     "data": {
      "text/plain": [
       "'c:\\\\Users\\\\Omar\\\\Desktop\\\\Omar_Files\\\\Python_Analysis\\\\EndToEndMLProjectGenderClassification\\\\research'"
      ]
     },
     "execution_count": 3,
     "metadata": {},
     "output_type": "execute_result"
    }
   ],
   "source": [
    "\n",
    "%pwd"
   ]
  },
  {
   "cell_type": "code",
   "execution_count": 4,
   "metadata": {},
   "outputs": [],
   "source": [
    "os.chdir(\"../\")"
   ]
  },
  {
   "cell_type": "code",
   "execution_count": 164,
   "metadata": {},
   "outputs": [
    {
     "data": {
      "text/plain": [
       "'c:\\\\Users\\\\Omar\\\\Desktop\\\\Omar_Files\\\\Python_Analysis\\\\EndToEndMLProjectGenderClassification'"
      ]
     },
     "execution_count": 164,
     "metadata": {},
     "output_type": "execute_result"
    }
   ],
   "source": [
    "%pwd\n"
   ]
  },
  {
   "cell_type": "code",
   "execution_count": 165,
   "metadata": {},
   "outputs": [],
   "source": [
    "from dataclasses import dataclass\n",
    "from pathlib import Path\n",
    "\n",
    "\n",
    "@dataclass(frozen=True)\n",
    "class TrainingConfig:\n",
    "    root_dir:Path\n",
    "    train_data_arr_path:Path\n",
    "    test_data_arr_path: Path \n",
    "    best_model:str \n",
    "    best_model_params: Path\n",
    "    target_column:str"
   ]
  },
  {
   "cell_type": "code",
   "execution_count": 166,
   "metadata": {},
   "outputs": [],
   "source": [
    "from EndToEndMLProjectGenderClassification.constants import *\n",
    "from EndToEndMLProjectGenderClassification.utils.common import read_yaml,create_directories,save_json"
   ]
  },
  {
   "cell_type": "code",
   "execution_count": 167,
   "metadata": {},
   "outputs": [],
   "source": [
    "class ConfigurationManager:\n",
    "    def __init__(self,\n",
    "                 config_filepath=CONFIG_FILE_PATH,\n",
    "                 schema_filepath=SCHEMA_FILE_PATH\n",
    "                 ) -> None:\n",
    "        \n",
    "        self.config=read_yaml(config_filepath)\n",
    "        self.schema=read_yaml(schema_filepath)\n",
    "\n",
    "        create_directories([self.config.artifacts_root])      \n",
    "\n",
    "\n",
    "    def get_training_config(self)-> TrainingConfig:\n",
    "        config=self.config.training\n",
    "        schema=self.schema\n",
    "\n",
    "        create_directories([config.root_dir])\n",
    "\n",
    "        training_config = TrainingConfig(\n",
    "            root_dir=config.root_dir,\n",
    "            train_data_arr_path=config.train_data_arr_path,\n",
    "            test_data_arr_path=config.test_data_arr_path,\n",
    "            best_model=config.best_model,\n",
    "            best_model_params=config.best_model_params,\n",
    "            target_column=schema.TARGET_COLUMN\n",
    "        )\n",
    "\n",
    "        return training_config"
   ]
  },
  {
   "cell_type": "code",
   "execution_count": 168,
   "metadata": {},
   "outputs": [],
   "source": [
    "import os\n",
    "import urllib.request as request\n",
    "import pickle,joblib\n",
    "import pandas as pd\n",
    "import numpy as np\n",
    "from EndToEndMLProjectGenderClassification import logger\n",
    "from sklearn.metrics import accuracy_score,f1_score,recall_score,precision_score,classification_report\n",
    "from sklearn.ensemble import (\n",
    "    RandomForestClassifier,GradientBoostingClassifier,AdaBoostClassifier,BaggingClassifier\n",
    ")\n",
    "\n",
    "from sklearn.tree import DecisionTreeClassifier\n",
    "\n",
    "import xgboost as xgb\n",
    "from xgboost import XGBClassifier\n",
    "from sklearn.svm import SVC\n",
    "import json\n",
    "from sklearn.model_selection import GridSearchCV,RandomizedSearchCV\n",
    "from EndToEndMLProjectGenderClassification.hyperpatameters.params import models"
   ]
  },
  {
   "cell_type": "code",
   "execution_count": 169,
   "metadata": {},
   "outputs": [],
   "source": [
    "\n",
    "class Training:\n",
    "    def __init__(self,config:TrainingConfig):\n",
    "        self.config= config\n",
    "\n",
    "    def initiate_Training(self):\n",
    "\n",
    "        with open(self.config.train_data_arr_path, 'rb') as f:\n",
    "            train_data = np.load(f)\n",
    "\n",
    "        with open(self.config.test_data_arr_path, 'rb') as f:\n",
    "            test_data = np.load(f)    \n",
    "\n",
    "        x_train,y_train,x_test,y_test=(\n",
    "            train_data[:,:-1],train_data[:,-1],test_data[:,:-1],test_data[:,-1]\n",
    "        )\n",
    "\n",
    "        yamalpath=Path(\"model.yaml\")      \n",
    "        params_config=read_yaml(yamalpath)\n",
    "    \n",
    "        best_model = None\n",
    "        best_score = -float(\"inf\")\n",
    "        best_params = {}\n",
    "        best_model_name = \"\"\n",
    "\n",
    "        for model_name, model in models.items():\n",
    "            print(f\"Running RandomizedSearchCV for {model_name}...\")\n",
    "            param_grid = params_config['models'][model_name]\n",
    "\n",
    "            random_search = RandomizedSearchCV(\n",
    "                estimator=model,\n",
    "                param_distributions=param_grid,\n",
    "                n_iter=3, \n",
    "                scoring='accuracy',  \n",
    "                cv=3, \n",
    "                verbose=2,\n",
    "                random_state=42,\n",
    "                error_score='raise'\n",
    "            )\n",
    "            random_search.fit(x_train, y_train)\n",
    "\n",
    "            if random_search.best_score_ > best_score:\n",
    "                best_score = random_search.best_score_\n",
    "                best_model = random_search.best_estimator_\n",
    "                best_params = {\"best_params\":random_search.best_params_}\n",
    "                best_model_name = model_name\n",
    "\n",
    "            #np.random.seed(42)\n",
    "            best_model.fit(x_train,y_train)\n",
    "            joblib.dump(best_model,os.path.join(self.config.root_dir,self.config.best_model))\n",
    "            results={\"best_model_name\":best_model_name,\"best_params\":best_params}\n",
    "            save_json(path=Path(self.config.best_model_params),data=results)  "
   ]
  },
  {
   "cell_type": "code",
   "execution_count": 170,
   "metadata": {},
   "outputs": [
    {
     "name": "stdout",
     "output_type": "stream",
     "text": [
      "[2024-10-30 21:02:15,811: INFO: common: yaml file: config\\config.yaml loaded successfully]\n",
      "[2024-10-30 21:02:15,816: INFO: common: yaml file: schema.yaml loaded successfully]\n",
      "[2024-10-30 21:02:15,818: INFO: common: created directory at: artifacts]\n",
      "[2024-10-30 21:02:15,820: INFO: common: created directory at: artifacts/training]\n",
      "[2024-10-30 21:02:15,854: INFO: common: yaml file: model.yaml loaded successfully]\n",
      "Running RandomizedSearchCV for RandomForestClassifier...\n",
      "Fitting 3 folds for each of 3 candidates, totalling 9 fits\n",
      "[CV] END min_samples_leaf=1, min_samples_split=10, n_estimators=300; total time=   3.3s\n",
      "[CV] END min_samples_leaf=1, min_samples_split=10, n_estimators=300; total time=   3.5s\n",
      "[CV] END min_samples_leaf=1, min_samples_split=10, n_estimators=300; total time=   3.9s\n",
      "[CV] END min_samples_leaf=2, min_samples_split=5, n_estimators=200; total time=   2.1s\n",
      "[CV] END min_samples_leaf=2, min_samples_split=5, n_estimators=200; total time=   3.7s\n",
      "[CV] END min_samples_leaf=2, min_samples_split=5, n_estimators=200; total time=   1.8s\n",
      "[CV] END min_samples_leaf=2, min_samples_split=2, n_estimators=100; total time=   1.1s\n",
      "[CV] END min_samples_leaf=2, min_samples_split=2, n_estimators=100; total time=   1.2s\n",
      "[CV] END min_samples_leaf=2, min_samples_split=2, n_estimators=100; total time=   0.9s\n",
      "[2024-10-30 21:02:42,355: INFO: common: json file saved at: artifacts\\training\\best_params.json]\n",
      "Running RandomizedSearchCV for GradientBoostingClassifier...\n",
      "Fitting 3 folds for each of 3 candidates, totalling 9 fits\n",
      "[CV] END min_samples_leaf=1, min_samples_split=10, n_estimators=300; total time=   3.0s\n",
      "[CV] END min_samples_leaf=1, min_samples_split=10, n_estimators=300; total time=   4.7s\n",
      "[CV] END min_samples_leaf=1, min_samples_split=10, n_estimators=300; total time=   2.4s\n",
      "[CV] END min_samples_leaf=2, min_samples_split=5, n_estimators=200; total time=   2.7s\n",
      "[CV] END min_samples_leaf=2, min_samples_split=5, n_estimators=200; total time=   3.0s\n",
      "[CV] END min_samples_leaf=2, min_samples_split=5, n_estimators=200; total time=   1.6s\n",
      "[CV] END min_samples_leaf=2, min_samples_split=2, n_estimators=100; total time=   2.3s\n",
      "[CV] END min_samples_leaf=2, min_samples_split=2, n_estimators=100; total time=   1.3s\n",
      "[CV] END min_samples_leaf=2, min_samples_split=2, n_estimators=100; total time=   0.8s\n",
      "[2024-10-30 21:03:12,649: INFO: common: json file saved at: artifacts\\training\\best_params.json]\n"
     ]
    }
   ],
   "source": [
    "\n",
    "try:\n",
    "    config = ConfigurationManager()\n",
    "    training_config = config.get_training_config()\n",
    "    training = Training(config=training_config)\n",
    "    training.initiate_Training()\n",
    "except Exception as e:\n",
    "    raise e"
   ]
  },
  {
   "cell_type": "code",
   "execution_count": null,
   "metadata": {},
   "outputs": [],
   "source": []
  },
  {
   "cell_type": "code",
   "execution_count": null,
   "metadata": {},
   "outputs": [],
   "source": []
  }
 ],
 "metadata": {
  "kernelspec": {
   "display_name": "GenderClassificationenv",
   "language": "python",
   "name": "python3"
  },
  "language_info": {
   "codemirror_mode": {
    "name": "ipython",
    "version": 3
   },
   "file_extension": ".py",
   "mimetype": "text/x-python",
   "name": "python",
   "nbconvert_exporter": "python",
   "pygments_lexer": "ipython3",
   "version": "3.10.8"
  }
 },
 "nbformat": 4,
 "nbformat_minor": 2
}
