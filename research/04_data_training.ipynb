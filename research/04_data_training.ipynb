{
 "cells": [
  {
   "cell_type": "code",
   "execution_count": 1,
   "metadata": {},
   "outputs": [],
   "source": [
    "import os"
   ]
  },
  {
   "cell_type": "code",
   "execution_count": 2,
   "metadata": {},
   "outputs": [
    {
     "data": {
      "text/plain": [
       "'c:\\\\Users\\\\Omar\\\\Desktop\\\\Omar_Files\\\\Python_Analysis\\\\EndToEndMLProjectGenderClassification\\\\research'"
      ]
     },
     "execution_count": 2,
     "metadata": {},
     "output_type": "execute_result"
    }
   ],
   "source": [
    "\n",
    "%pwd"
   ]
  },
  {
   "cell_type": "code",
   "execution_count": 3,
   "metadata": {},
   "outputs": [],
   "source": [
    "os.chdir(\"../\")"
   ]
  },
  {
   "cell_type": "code",
   "execution_count": 18,
   "metadata": {},
   "outputs": [
    {
     "data": {
      "text/plain": [
       "'c:\\\\Users\\\\Omar\\\\Desktop\\\\Omar_Files\\\\Python_Analysis\\\\EndToEndMLProjectGenderClassification'"
      ]
     },
     "execution_count": 18,
     "metadata": {},
     "output_type": "execute_result"
    }
   ],
   "source": [
    "%pwd"
   ]
  },
  {
   "cell_type": "code",
   "execution_count": 19,
   "metadata": {},
   "outputs": [],
   "source": [
    "from dataclasses import dataclass\n",
    "from pathlib import Path\n",
    "\n",
    "\n",
    "@dataclass(frozen=True)\n",
    "class TrainingConfig:\n",
    "    root_dir:Path\n",
    "    train_data_arr_path:Path\n",
    "    model_name:str \n",
    "    n_estimators: int\n",
    "    min_samples_split: int\n",
    "    min_samples_leaf: int\n",
    "    random_state: int\n",
    "    target_column:str"
   ]
  },
  {
   "cell_type": "code",
   "execution_count": 20,
   "metadata": {},
   "outputs": [],
   "source": [
    "from EndToEndMLProjectGenderClassification.constants import *\n",
    "from EndToEndMLProjectGenderClassification.utils.common import read_yaml,create_directories"
   ]
  },
  {
   "cell_type": "code",
   "execution_count": 21,
   "metadata": {},
   "outputs": [],
   "source": [
    "class ConfigurationManager:\n",
    "    def __init__(self,\n",
    "                 config_filepath=CONFIG_FILE_PATH,\n",
    "                 params_filepath=PARAMS_FILE_PATH,\n",
    "                 schema_filepath=SCHEMA_FILE_PATH) -> None:\n",
    "        \n",
    "        self.config=read_yaml(config_filepath)\n",
    "        self.params=read_yaml(params_filepath)\n",
    "        self.schema=read_yaml(schema_filepath)\n",
    "\n",
    "        create_directories([self.config.artifacts_root])      \n",
    "\n",
    "\n",
    "    def get_training_config(self)-> TrainingConfig:\n",
    "        config=self.config.training\n",
    "        params=self.params.RandomForestClassifier\n",
    "        schema=self.schema\n",
    "      \n",
    "\n",
    "        create_directories([config.root_dir])\n",
    "\n",
    "        training_config = TrainingConfig(\n",
    "            root_dir=config.root_dir,\n",
    "            train_data_arr_path=config.train_data_arr_path,\n",
    "            model_name=config.model_name,\n",
    "            n_estimators=params.n_estimators,\n",
    "            min_samples_split=params.min_samples_split,\n",
    "            min_samples_leaf=params.min_samples_leaf,\n",
    "            random_state=params.random_state,\n",
    "            target_column=schema.TARGET_COLUMN\n",
    "\n",
    "        )\n",
    "\n",
    "        return training_config"
   ]
  },
  {
   "cell_type": "code",
   "execution_count": 22,
   "metadata": {},
   "outputs": [],
   "source": [
    "import os\n",
    "import urllib.request as request\n",
    "from sklearn.ensemble import RandomForestClassifier,GradientBoostingClassifier\n",
    "import pickle,joblib\n",
    "import pandas as pd\n",
    "import numpy as np\n",
    "from EndToEndMLProjectGenderClassification import logger"
   ]
  },
  {
   "cell_type": "code",
   "execution_count": 23,
   "metadata": {},
   "outputs": [],
   "source": [
    "\n",
    "class Training:\n",
    "    def __init__(self,config:TrainingConfig):\n",
    "        self.config= config\n",
    "\n",
    "    def initiate_Training(self):\n",
    "\n",
    "        with open(self.config.train_data_arr_path, 'rb') as f:\n",
    "            train_data = np.load(f)  \n",
    "\n",
    "\n",
    "        x_train,y_train=(\n",
    "            train_data[:,:-1],train_data[:,-1]\n",
    "        )\n",
    "\n",
    "        model=RandomForestClassifier(\n",
    "            n_estimators= self.config.n_estimators,\n",
    "            min_samples_split=self.config.min_samples_split,\n",
    "            min_samples_leaf=self.config.min_samples_leaf,\n",
    "            random_state=self.config.random_state\n",
    "            )\n",
    "        \n",
    "        model.fit(x_train,y_train)  \n",
    "\n",
    "        joblib.dump(model,os.path.join(self.config.root_dir,self.config.model_name))      \n",
    "\n"
   ]
  },
  {
   "cell_type": "code",
   "execution_count": 24,
   "metadata": {},
   "outputs": [
    {
     "name": "stdout",
     "output_type": "stream",
     "text": [
      "[2024-10-11 07:23:22,119: INFO: common: yaml file: config\\config.yaml loaded successfully]\n",
      "[2024-10-11 07:23:22,123: INFO: common: yaml file: params.yaml loaded successfully]\n",
      "[2024-10-11 07:23:22,130: INFO: common: yaml file: schema.yaml loaded successfully]\n",
      "[2024-10-11 07:23:22,131: INFO: common: created directory at: artifacts]\n",
      "[2024-10-11 07:23:22,133: INFO: common: created directory at: artifacts/training]\n"
     ]
    }
   ],
   "source": [
    "\n",
    "try:\n",
    "    config = ConfigurationManager()\n",
    "    training_config = config.get_training_config()\n",
    "    training = Training(config=training_config)\n",
    "    training.initiate_Training()\n",
    "except Exception as e:\n",
    "    raise e"
   ]
  },
  {
   "cell_type": "code",
   "execution_count": null,
   "metadata": {},
   "outputs": [],
   "source": []
  }
 ],
 "metadata": {
  "kernelspec": {
   "display_name": "GenderClassificationenv",
   "language": "python",
   "name": "python3"
  },
  "language_info": {
   "codemirror_mode": {
    "name": "ipython",
    "version": 3
   },
   "file_extension": ".py",
   "mimetype": "text/x-python",
   "name": "python",
   "nbconvert_exporter": "python",
   "pygments_lexer": "ipython3",
   "version": "3.10.8"
  }
 },
 "nbformat": 4,
 "nbformat_minor": 2
}
